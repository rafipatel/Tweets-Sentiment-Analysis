{
  "cells": [
    {
      "cell_type": "markdown",
      "metadata": {
        "id": "oYNvEPaZ5Hkt"
      },
      "source": [
        "# Disaster Tweets - NLP for EXTREME Beginners\n",
        "\n",
        "Predict which Tweets are about real disasters and which ones are not\n",
        "\n",
        "\n",
        "\n"
      ]
    },
    {
      "cell_type": "code",
      "execution_count": null,
      "metadata": {
        "_cell_guid": "b1076dfc-b9ad-4769-8c92-a6c4dae69d19",
        "_uuid": "8f2839f25d086af736a60e9eeb907d3b93b6e0e5",
        "id": "SKcFTwlu5Hk4",
        "trusted": true
      },
      "outputs": [],
      "source": [
        "\n",
        "import numpy as np \n",
        "import pandas as pd \n",
        "import os\n",
        "\n",
        "from sklearn import model_selection as sk_model_selection\n",
        "from sklearn.feature_extraction import text as sk_fe_text\n",
        "from sklearn import svm as sk_svm\n",
        "from sklearn import metrics as sk_metrics"
      ]
    },
    {
      "cell_type": "markdown",
      "metadata": {
        "id": "u_YOp-6R5Hk4"
      },
      "source": [
        "<a id=\"1\"></a>\n",
        "<h2 style='background:#FA497A; border:0; color:white'><center>Data Loading<center><h2>"
      ]
    },
    {
      "cell_type": "code",
      "execution_count": null,
      "metadata": {
        "_cell_guid": "79c7e3d0-c299-4dcb-8224-4455121ee9b0",
        "_uuid": "d629ff2d2480ee46fbb7e2d37f6b5fab8052498a",
        "id": "qzGIGu_G5Hk5",
        "trusted": true
      },
      "outputs": [],
      "source": [
        "#Reading CSV(comma seperated values) file using pandas\n",
        "df_train = pd.read_csv(\"train.csv\")\n",
        "df_test = pd.read_csv('test.csv')\n",
        "df_submission = pd.read_csv('sample_submission.csv')"
      ]
    },
    {
      "cell_type": "code",
      "execution_count": null,
      "metadata": {
        "colab": {
          "base_uri": "https://localhost:8080/",
          "height": 223
        },
        "id": "ZVsgcpZI5Hk6",
        "outputId": "0d78d0a2-8b98-40bc-b1c2-0d71d265940b",
        "trusted": true
      },
      "outputs": [
        {
          "name": "stdout",
          "output_type": "stream",
          "text": [
            "df_train shape: (7613, 5)\n"
          ]
        },
        {
          "data": {
            "text/html": [
              "\n",
              "  <div id=\"df-caecff4b-2c12-4f6e-b663-a3053725553a\">\n",
              "    <div class=\"colab-df-container\">\n",
              "      <div>\n",
              "<style scoped>\n",
              "    .dataframe tbody tr th:only-of-type {\n",
              "        vertical-align: middle;\n",
              "    }\n",
              "\n",
              "    .dataframe tbody tr th {\n",
              "        vertical-align: top;\n",
              "    }\n",
              "\n",
              "    .dataframe thead th {\n",
              "        text-align: right;\n",
              "    }\n",
              "</style>\n",
              "<table border=\"1\" class=\"dataframe\">\n",
              "  <thead>\n",
              "    <tr style=\"text-align: right;\">\n",
              "      <th></th>\n",
              "      <th>id</th>\n",
              "      <th>keyword</th>\n",
              "      <th>location</th>\n",
              "      <th>text</th>\n",
              "      <th>target</th>\n",
              "    </tr>\n",
              "  </thead>\n",
              "  <tbody>\n",
              "    <tr>\n",
              "      <th>0</th>\n",
              "      <td>1</td>\n",
              "      <td>NaN</td>\n",
              "      <td>NaN</td>\n",
              "      <td>Our Deeds are the Reason of this #earthquake M...</td>\n",
              "      <td>1</td>\n",
              "    </tr>\n",
              "    <tr>\n",
              "      <th>1</th>\n",
              "      <td>4</td>\n",
              "      <td>NaN</td>\n",
              "      <td>NaN</td>\n",
              "      <td>Forest fire near La Ronge Sask. Canada</td>\n",
              "      <td>1</td>\n",
              "    </tr>\n",
              "    <tr>\n",
              "      <th>2</th>\n",
              "      <td>5</td>\n",
              "      <td>NaN</td>\n",
              "      <td>NaN</td>\n",
              "      <td>All residents asked to 'shelter in place' are ...</td>\n",
              "      <td>1</td>\n",
              "    </tr>\n",
              "    <tr>\n",
              "      <th>3</th>\n",
              "      <td>6</td>\n",
              "      <td>NaN</td>\n",
              "      <td>NaN</td>\n",
              "      <td>13,000 people receive #wildfires evacuation or...</td>\n",
              "      <td>1</td>\n",
              "    </tr>\n",
              "    <tr>\n",
              "      <th>4</th>\n",
              "      <td>7</td>\n",
              "      <td>NaN</td>\n",
              "      <td>NaN</td>\n",
              "      <td>Just got sent this photo from Ruby #Alaska as ...</td>\n",
              "      <td>1</td>\n",
              "    </tr>\n",
              "  </tbody>\n",
              "</table>\n",
              "</div>\n",
              "      <button class=\"colab-df-convert\" onclick=\"convertToInteractive('df-caecff4b-2c12-4f6e-b663-a3053725553a')\"\n",
              "              title=\"Convert this dataframe to an interactive table.\"\n",
              "              style=\"display:none;\">\n",
              "        \n",
              "  <svg xmlns=\"http://www.w3.org/2000/svg\" height=\"24px\"viewBox=\"0 0 24 24\"\n",
              "       width=\"24px\">\n",
              "    <path d=\"M0 0h24v24H0V0z\" fill=\"none\"/>\n",
              "    <path d=\"M18.56 5.44l.94 2.06.94-2.06 2.06-.94-2.06-.94-.94-2.06-.94 2.06-2.06.94zm-11 1L8.5 8.5l.94-2.06 2.06-.94-2.06-.94L8.5 2.5l-.94 2.06-2.06.94zm10 10l.94 2.06.94-2.06 2.06-.94-2.06-.94-.94-2.06-.94 2.06-2.06.94z\"/><path d=\"M17.41 7.96l-1.37-1.37c-.4-.4-.92-.59-1.43-.59-.52 0-1.04.2-1.43.59L10.3 9.45l-7.72 7.72c-.78.78-.78 2.05 0 2.83L4 21.41c.39.39.9.59 1.41.59.51 0 1.02-.2 1.41-.59l7.78-7.78 2.81-2.81c.8-.78.8-2.07 0-2.86zM5.41 20L4 18.59l7.72-7.72 1.47 1.35L5.41 20z\"/>\n",
              "  </svg>\n",
              "      </button>\n",
              "      \n",
              "  <style>\n",
              "    .colab-df-container {\n",
              "      display:flex;\n",
              "      flex-wrap:wrap;\n",
              "      gap: 12px;\n",
              "    }\n",
              "\n",
              "    .colab-df-convert {\n",
              "      background-color: #E8F0FE;\n",
              "      border: none;\n",
              "      border-radius: 50%;\n",
              "      cursor: pointer;\n",
              "      display: none;\n",
              "      fill: #1967D2;\n",
              "      height: 32px;\n",
              "      padding: 0 0 0 0;\n",
              "      width: 32px;\n",
              "    }\n",
              "\n",
              "    .colab-df-convert:hover {\n",
              "      background-color: #E2EBFA;\n",
              "      box-shadow: 0px 1px 2px rgba(60, 64, 67, 0.3), 0px 1px 3px 1px rgba(60, 64, 67, 0.15);\n",
              "      fill: #174EA6;\n",
              "    }\n",
              "\n",
              "    [theme=dark] .colab-df-convert {\n",
              "      background-color: #3B4455;\n",
              "      fill: #D2E3FC;\n",
              "    }\n",
              "\n",
              "    [theme=dark] .colab-df-convert:hover {\n",
              "      background-color: #434B5C;\n",
              "      box-shadow: 0px 1px 3px 1px rgba(0, 0, 0, 0.15);\n",
              "      filter: drop-shadow(0px 1px 2px rgba(0, 0, 0, 0.3));\n",
              "      fill: #FFFFFF;\n",
              "    }\n",
              "  </style>\n",
              "\n",
              "      <script>\n",
              "        const buttonEl =\n",
              "          document.querySelector('#df-caecff4b-2c12-4f6e-b663-a3053725553a button.colab-df-convert');\n",
              "        buttonEl.style.display =\n",
              "          google.colab.kernel.accessAllowed ? 'block' : 'none';\n",
              "\n",
              "        async function convertToInteractive(key) {\n",
              "          const element = document.querySelector('#df-caecff4b-2c12-4f6e-b663-a3053725553a');\n",
              "          const dataTable =\n",
              "            await google.colab.kernel.invokeFunction('convertToInteractive',\n",
              "                                                     [key], {});\n",
              "          if (!dataTable) return;\n",
              "\n",
              "          const docLinkHtml = 'Like what you see? Visit the ' +\n",
              "            '<a target=\"_blank\" href=https://colab.research.google.com/notebooks/data_table.ipynb>data table notebook</a>'\n",
              "            + ' to learn more about interactive tables.';\n",
              "          element.innerHTML = '';\n",
              "          dataTable['output_type'] = 'display_data';\n",
              "          await google.colab.output.renderOutput(dataTable, element);\n",
              "          const docLink = document.createElement('div');\n",
              "          docLink.innerHTML = docLinkHtml;\n",
              "          element.appendChild(docLink);\n",
              "        }\n",
              "      </script>\n",
              "    </div>\n",
              "  </div>\n",
              "  "
            ],
            "text/plain": [
              "   id keyword location                                               text  \\\n",
              "0   1     NaN      NaN  Our Deeds are the Reason of this #earthquake M...   \n",
              "1   4     NaN      NaN             Forest fire near La Ronge Sask. Canada   \n",
              "2   5     NaN      NaN  All residents asked to 'shelter in place' are ...   \n",
              "3   6     NaN      NaN  13,000 people receive #wildfires evacuation or...   \n",
              "4   7     NaN      NaN  Just got sent this photo from Ruby #Alaska as ...   \n",
              "\n",
              "   target  \n",
              "0       1  \n",
              "1       1  \n",
              "2       1  \n",
              "3       1  \n",
              "4       1  "
            ]
          },
          "execution_count": 46,
          "metadata": {},
          "output_type": "execute_result"
        }
      ],
      "source": [
        "print(f'df_train shape: {df_train.shape}')\n",
        "#.head shows first 5 entries from dataset\n",
        "df_train.head()"
      ]
    },
    {
      "cell_type": "code",
      "execution_count": null,
      "metadata": {
        "colab": {
          "base_uri": "https://localhost:8080/"
        },
        "id": "GVTS2F665Hk6",
        "outputId": "1b37a1f5-4d5a-431f-f0a4-43181181cdf8",
        "trusted": true
      },
      "outputs": [
        {
          "data": {
            "text/plain": [
              "id             0\n",
              "keyword       61\n",
              "location    2533\n",
              "text           0\n",
              "target         0\n",
              "dtype: int64"
            ]
          },
          "execution_count": 47,
          "metadata": {},
          "output_type": "execute_result"
        }
      ],
      "source": [
        "#Sum of missing values {i.e is Not Available}\n",
        "df_train.isna().sum()"
      ]
    },
    {
      "cell_type": "code",
      "execution_count": null,
      "metadata": {
        "id": "WBLqtOet6oVV"
      },
      "outputs": [],
      "source": [
        "#help(df_train.isna)"
      ]
    },
    {
      "cell_type": "markdown",
      "metadata": {
        "id": "xux_i6LV5Hk7"
      },
      "source": [
        "<a id=\"2\"></a>\n",
        "<h2 style='background:#FA497A; border:0; color:white'><center>TF-IDF preprocessing<center><h2>\n"
      ]
    },
    {
      "cell_type": "code",
      "execution_count": null,
      "metadata": {
        "id": "q3Hiu4GG5Hk7",
        "trusted": true
      },
      "outputs": [],
      "source": [
        "#Extracting \"text column\" from dataset for X_train and \"target column\" for y_train\n",
        "#.values ,  Return a Numpy representation of the DataFrame.\n",
        "X_train = df_train[\"text\"]\n",
        "y_train = df_train[\"target\"]"
      ]
    },
    {
      "cell_type": "code",
      "execution_count": null,
      "metadata": {
        "colab": {
          "base_uri": "https://localhost:8080/"
        },
        "id": "Ntspd1Yk5Hk8",
        "outputId": "1099ccdf-bc34-4074-cba5-cdefe34f9e29",
        "trusted": true
      },
      "outputs": [
        {
          "name": "stdout",
          "output_type": "stream",
          "text": [
            "0       Our Deeds are the Reason of this #earthquake M...\n",
            "1                  Forest fire near La Ronge Sask. Canada\n",
            "2       All residents asked to 'shelter in place' are ...\n",
            "3       13,000 people receive #wildfires evacuation or...\n",
            "4       Just got sent this photo from Ruby #Alaska as ...\n",
            "                              ...                        \n",
            "7608    Two giant cranes holding a bridge collapse int...\n",
            "7609    @aria_ahrary @TheTawniest The out of control w...\n",
            "7610    M1.94 [01:04 UTC]?5km S of Volcano Hawaii. htt...\n",
            "7611    Police investigating after an e-bike collided ...\n",
            "7612    The Latest: More Homes Razed by Northern Calif...\n",
            "Name: text, Length: 7613, dtype: object\n",
            "  (0, 15499)\t0.3982041761665894\n",
            "  (0, 7572)\t0.510614541608432\n",
            "  (0, 6311)\t0.3541772503550105\n",
            "  (0, 5429)\t0.510614541608432\n",
            "  (0, 1844)\t0.44106404207379424\n",
            "  (1, 16431)\t0.5020741962299169\n",
            "  (1, 16087)\t0.5020741962299169\n",
            "  (1, 12979)\t0.32208070183508675\n",
            "  (1, 10967)\t0.3694302900637648\n",
            "  (1, 7563)\t0.3138500244679633\n",
            "  (1, 3790)\t0.3963917852206896\n",
            "  (2, 16835)\t0.5568556466031692\n",
            "  (2, 15761)\t0.26859491807655017\n",
            "  (2, 14437)\t0.45661753789851744\n",
            "  (2, 13772)\t0.25473621653805173\n",
            "  (2, 13544)\t0.26859491807655017\n",
            "  (2, 13270)\t0.31597813160361593\n",
            "  (2, 6933)\t0.2449033113130173\n",
            "  (2, 6835)\t0.20595771688907502\n",
            "  (2, 2283)\t0.2645691217630861\n",
            "  (3, 20344)\t0.380803178556273\n",
            "  (3, 15520)\t0.44642400362054496\n",
            "  (3, 14216)\t0.2353365059281336\n",
            "  (3, 13772)\t0.3764086329355128\n",
            "  (3, 6835)\t0.30433153051543327\n",
            "  :\t:\n",
            "  (7610, 18)\t0.3267543677324862\n",
            "  (7610, 7)\t0.30788899158603666\n",
            "  (7611, 18591)\t0.26816570449953314\n",
            "  (7611, 17886)\t0.2918194521726667\n",
            "  (7611, 15907)\t0.27798289678236326\n",
            "  (7611, 14607)\t0.3016366444554968\n",
            "  (7611, 14557)\t0.17302163120162395\n",
            "  (7611, 13212)\t0.24906873489052014\n",
            "  (7611, 11391)\t0.2063180176083736\n",
            "  (7611, 11294)\t0.1851932151911028\n",
            "  (7611, 9848)\t0.24451195682639956\n",
            "  (7611, 9724)\t0.20999092957296003\n",
            "  (7611, 4533)\t0.2107754502035924\n",
            "  (7611, 3849)\t0.18557029244730086\n",
            "  (7611, 3001)\t0.5684092924946169\n",
            "  (7612, 20993)\t0.4897282944671096\n",
            "  (7612, 20343)\t0.29989301401433327\n",
            "  (7612, 15428)\t0.3412215575810274\n",
            "  (7612, 13240)\t0.3053111893723032\n",
            "  (7612, 13050)\t0.2487682939538382\n",
            "  (7612, 11062)\t0.30955141528442076\n",
            "  (7612, 9192)\t0.09259655259614481\n",
            "  (7612, 9060)\t0.30955141528442076\n",
            "  (7612, 3746)\t0.27327556391427205\n",
            "  (7612, 1434)\t0.35185199609857115\n"
          ]
        }
      ],
      "source": [
        "#TfidfVectorizer Converts text into vector format\n",
        "#For extremely easy understanding of TF-IDF please visit https://www.capitalone.com/tech/machine-learning/understanding-tf-idf/\n",
        "tfidf = sk_fe_text.TfidfVectorizer(stop_words = 'english')\n",
        "tfidf.fit(X_train)\n",
        "print(X_train)\n",
        "#.transform returns vectors : sparse matrix of shape (n_samples, n_features) and Tf-idf-weighted document-term matrix.\n",
        "X_train = tfidf.transform(X_train)\n",
        "print(X_train)"
      ]
    },
    {
      "cell_type": "markdown",
      "metadata": {
        "id": "8WdC2rX65Hk8"
      },
      "source": [
        "<a id=\"3\"></a>\n",
        "<h2 style='background:#FA497A; border:0; color:white'><center>SVM Training<center><h2>\n"
      ]
    },
    {
      "cell_type": "markdown",
      "metadata": {
        "id": "SvKVKlOA5Hk9"
      },
      "source": [
        "Using GridSearchCV to find the best parameters for SVM"
      ]
    },
    {
      "cell_type": "code",
      "execution_count": null,
      "metadata": {
        "colab": {
          "base_uri": "https://localhost:8080/"
        },
        "id": "QBXPBQF15Hk9",
        "outputId": "3b8a9d5e-e012-4770-fe4c-6f1718a12410",
        "trusted": true
      },
      "outputs": [
        {
          "name": "stdout",
          "output_type": "stream",
          "text": [
            "Best parameters: {'C': 1, 'gamma': 0.7}\n",
            "Mean cross-validated F1 score of the best_estimator: 0.591\n"
          ]
        }
      ],
      "source": [
        "#trying different values for C and gama\n",
        "#Gamma decides that how much curvature we want in a decision boundary\n",
        "parameters = { \n",
        "    'C': [0.01, 0.1, 1],\n",
        "    'gamma': [0.7, 1, 'auto', 'scale']\n",
        "}\n",
        "#If the hyperplane classifies the dataset linearly then the algorithm we call it as SVC \n",
        "#and the algorithm that separates the dataset by non-linear approach then we call it as SVM\n",
        "\n",
        "model = sk_svm.SVC(\n",
        "    kernel='rbf', \n",
        "    class_weight='balanced',\n",
        "    random_state=42,\n",
        ")\n",
        "#The GridSearchCV instance implements the usual estimator API: when “fitting” it \n",
        "#on a dataset all the possible combinations of parameter values are evaluated and the best combination is retained.\n",
        "model = sk_model_selection.GridSearchCV(\n",
        "    model, \n",
        "    parameters, \n",
        "    cv=5,\n",
        "    scoring='f1',\n",
        "    n_jobs=-1,\n",
        ")\n",
        "\n",
        "model.fit(X_train, y_train)\n",
        "\n",
        "print(f'Best parameters: {model.best_params_}')\n",
        "print(f'Mean cross-validated F1 score of the best_estimator: {model.best_score_:.3f}')\n"
      ]
    },
    {
      "cell_type": "markdown",
      "metadata": {
        "id": "AHcPcqcehwXS"
      },
      "source": [
        "##Testing"
      ]
    },
    {
      "cell_type": "code",
      "execution_count": null,
      "metadata": {
        "colab": {
          "base_uri": "https://localhost:8080/"
        },
        "id": "irL0IdIAf0HF",
        "outputId": "9d64d5e6-f63d-44f0-d47c-dee77efefaff"
      },
      "outputs": [
        {
          "data": {
            "text/plain": [
              "0                      Just happened a terrible car crash\n",
              "1       Heard about #earthquake is different cities, s...\n",
              "2       there is a forest fire at spot pond, geese are...\n",
              "3                Apocalypse lighting. #Spokane #wildfires\n",
              "4           Typhoon Soudelor kills 28 in China and Taiwan\n",
              "                              ...                        \n",
              "3258    EARTHQUAKE SAFETY LOS ANGELES ÛÒ SAFETY FASTE...\n",
              "3259    Storm in RI worse than last hurricane. My city...\n",
              "3260    Green Line derailment in Chicago http://t.co/U...\n",
              "3261    MEG issues Hazardous Weather Outlook (HWO) htt...\n",
              "3262    #CityofCalgary has activated its Municipal Eme...\n",
              "Name: text, Length: 3263, dtype: object"
            ]
          },
          "execution_count": 71,
          "metadata": {},
          "output_type": "execute_result"
        }
      ],
      "source": [
        "#Extracting \"text column\" from dataset for X_test \n",
        "X_test = df_test[\"text\"]\n",
        "X_test"
      ]
    },
    {
      "cell_type": "markdown",
      "metadata": {
        "id": "BuwOO1-t5Hk-"
      },
      "source": [
        "<a id=\"100\"></a>\n",
        "<h2 style='background:#FA497A; border:0; color:white'><center>Submission<center><h2>"
      ]
    },
    {
      "cell_type": "code",
      "execution_count": null,
      "metadata": {
        "id": "7HDFw1u_5Hk_",
        "trusted": true
      },
      "outputs": [],
      "source": [
        "X_test = df_test[\"text\"]\n",
        "X_test = tfidf.transform(X_test)\n",
        "\n",
        "\n",
        "y_test_pred = model.predict(X_test)"
      ]
    },
    {
      "cell_type": "code",
      "execution_count": null,
      "metadata": {
        "id": "gEYXw0ZU5Hk_",
        "trusted": true
      },
      "outputs": [],
      "source": [
        "df_submission[\"target\"] = y_test_pred\n",
        "df_submission.to_csv(\"submission.csv\",index=False)"
      ]
    },
    {
      "cell_type": "code",
      "execution_count": null,
      "metadata": {
        "id": "SxwOsLFz5HlA",
        "trusted": true
      },
      "outputs": [],
      "source": [
        "df_submission"
      ]
    }
  ],
  "metadata": {
    "colab": {
      "name": "disaster-tweets-nlp-beginner-9c8aad.ipynb",
      "provenance": []
    },
    "kernelspec": {
      "display_name": "Python 3",
      "language": "python",
      "name": "python3"
    },
    "language_info": {
      "codemirror_mode": {
        "name": "ipython",
        "version": 3
      },
      "file_extension": ".py",
      "mimetype": "text/x-python",
      "name": "python",
      "nbconvert_exporter": "python",
      "pygments_lexer": "ipython3",
      "version": "3.6.6"
    }
  },
  "nbformat": 4,
  "nbformat_minor": 0
}
